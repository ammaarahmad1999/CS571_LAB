{
 "cells": [
  {
   "cell_type": "code",
   "execution_count": 1,
   "metadata": {
    "id": "_erY6sSBHZHw"
   },
   "outputs": [],
   "source": [
    "import pandas as pd\n",
    "import numpy as np"
   ]
  },
  {
   "cell_type": "code",
   "execution_count": 2,
   "metadata": {
    "id": "VPeNazSwHhNj"
   },
   "outputs": [],
   "source": [
    "from keras.datasets import mnist\n",
    "import matplotlib.pyplot as plt"
   ]
  },
  {
   "cell_type": "code",
   "execution_count": 3,
   "metadata": {
    "id": "cvwqHDSuJIXf"
   },
   "outputs": [],
   "source": [
    "from sklearn import metrics\n",
    "import matplotlib.pyplot as plt\n",
    "import numpy as np\n",
    "import tensorflow as tf"
   ]
  },
  {
   "cell_type": "code",
   "execution_count": 4,
   "metadata": {
    "colab": {
     "base_uri": "https://localhost:8080/"
    },
    "id": "VJF1EvsaLZbe",
    "outputId": "8ea79e50-f16a-41fe-c091-fe71e1eba629"
   },
   "outputs": [
    {
     "name": "stdout",
     "output_type": "stream",
     "text": [
      "Downloading data from https://storage.googleapis.com/tensorflow/tf-keras-datasets/mnist.npz\n",
      "11493376/11490434 [==============================] - 0s 0us/step\n",
      "11501568/11490434 [==============================] - 0s 0us/step\n"
     ]
    }
   ],
   "source": [
    "# load (downloaded if needed) the MNIST dataset\n",
    "(X_train, y_train), (X_test, y_test) = mnist.load_data()"
   ]
  },
  {
   "cell_type": "code",
   "execution_count": 5,
   "metadata": {
    "colab": {
     "base_uri": "https://localhost:8080/"
    },
    "id": "fDu3uJlcHwvG",
    "outputId": "1534c07d-b633-41c9-f7bf-751c1eaa073b"
   },
   "outputs": [
    {
     "data": {
      "text/plain": [
       "(60000, 28, 28)"
      ]
     },
     "execution_count": 5,
     "metadata": {},
     "output_type": "execute_result"
    }
   ],
   "source": [
    "X_train.shape"
   ]
  },
  {
   "cell_type": "code",
   "execution_count": 6,
   "metadata": {
    "id": "jRtL-yMlH0ST"
   },
   "outputs": [],
   "source": [
    "# flatten 28*28 images to a 784 vector for each image\n",
    "num_pixels = X_train.shape[1] * X_train.shape[2]\n",
    "X_train = X_train.reshape((X_train.shape[0], num_pixels)).astype('float32')\n",
    "X_test = X_test.reshape((X_test.shape[0], num_pixels)).astype('float32')"
   ]
  },
  {
   "cell_type": "code",
   "execution_count": 7,
   "metadata": {
    "colab": {
     "base_uri": "https://localhost:8080/"
    },
    "id": "bSfGGXh1IL3A",
    "outputId": "23dccbf3-bc6d-4a32-a55b-830d9f9ca37e"
   },
   "outputs": [
    {
     "data": {
      "text/plain": [
       "(60000, 784)"
      ]
     },
     "execution_count": 7,
     "metadata": {},
     "output_type": "execute_result"
    }
   ],
   "source": [
    "X_train.shape"
   ]
  },
  {
   "cell_type": "code",
   "execution_count": 8,
   "metadata": {
    "id": "u8LXeMJOIOHT"
   },
   "outputs": [],
   "source": [
    "X_train = X_train / 255\n",
    "X_test = X_test / 255"
   ]
  },
  {
   "cell_type": "code",
   "execution_count": 9,
   "metadata": {
    "id": "UzZEwaPzKHaV"
   },
   "outputs": [],
   "source": [
    "X_train = X_train.reshape(-1,784,1)\n",
    "X_test = X_test.reshape(-1,784,1)"
   ]
  },
  {
   "cell_type": "code",
   "execution_count": 14,
   "metadata": {
    "colab": {
     "base_uri": "https://localhost:8080/"
    },
    "id": "eKzL6zKqRvRM",
    "outputId": "d5d1668f-1278-494a-fc34-b171957c2b1c"
   },
   "outputs": [
    {
     "data": {
      "text/plain": [
       "(10000, 784, 1)"
      ]
     },
     "execution_count": 14,
     "metadata": {},
     "output_type": "execute_result"
    }
   ],
   "source": [
    "X_test.shape"
   ]
  },
  {
   "cell_type": "code",
   "execution_count": 10,
   "metadata": {
    "id": "IhnSBT6yKsL7"
   },
   "outputs": [],
   "source": [
    "y_train=tf.keras.utils.to_categorical(y_train,10)\n",
    "y_test=tf.keras.utils.to_categorical(y_test,10)"
   ]
  },
  {
   "cell_type": "code",
   "execution_count": 11,
   "metadata": {
    "id": "cWsXXZvfIyVO"
   },
   "outputs": [],
   "source": [
    "input_size = 784\n",
    "output_size = 10\n",
    "number_of_neurons = [ [200,200,300],\n",
    "                      [400,200,300],\n",
    "                      [500,200,200], \n",
    "                      [300,400,600],\n",
    "                      [600,500,400] ]"
   ]
  },
  {
   "cell_type": "code",
   "execution_count": 12,
   "metadata": {
    "colab": {
     "base_uri": "https://localhost:8080/"
    },
    "id": "qCfS43sSJLVt",
    "outputId": "fa5c618d-10dd-4ef6-9023-4860399f5d98"
   },
   "outputs": [
    {
     "name": "stdout",
     "output_type": "stream",
     "text": [
      "Model: \"sequential\"\n",
      "_________________________________________________________________\n",
      " Layer (type)                Output Shape              Param #   \n",
      "=================================================================\n",
      " flatten (Flatten)           (None, 784)               0         \n",
      "                                                                 \n",
      " dense (Dense)               (None, 200)               157000    \n",
      "                                                                 \n",
      " dense_1 (Dense)             (None, 200)               40200     \n",
      "                                                                 \n",
      " dense_2 (Dense)             (None, 300)               60300     \n",
      "                                                                 \n",
      " dense_3 (Dense)             (None, 10)                3010      \n",
      "                                                                 \n",
      "=================================================================\n",
      "Total params: 260,510\n",
      "Trainable params: 260,510\n",
      "Non-trainable params: 0\n",
      "_________________________________________________________________\n",
      "[[ 968    0    2    1    1    2    3    1    2    0]\n",
      " [   0 1124    4    0    0    1    2    1    3    0]\n",
      " [   2    4 1011    2    1    0    2    3    6    1]\n",
      " [   0    0    7  986    0    2    0    5    5    5]\n",
      " [   3    0    4    1  952    1    3    6    1   11]\n",
      " [   1    0    0    8    1  866    5    2    5    4]\n",
      " [   5    3    2    0    5    6  936    0    1    0]\n",
      " [   2    4    8    3    0    0    0 1002    3    6]\n",
      " [   4    1    4    7    1    4    4    4  941    4]\n",
      " [   2    3    0    7   10    1    0    5    1  980]]\n",
      "Accuracy: 0.9766\n",
      "F1 score: 0.9764449303507231\n",
      "Recall: 0.9763375808681479\n",
      "Precision: 0.9765748759859111\n",
      "\n",
      "\n",
      "\n",
      "\n",
      "Model: \"sequential_1\"\n",
      "_________________________________________________________________\n",
      " Layer (type)                Output Shape              Param #   \n",
      "=================================================================\n",
      " flatten_1 (Flatten)         (None, 784)               0         \n",
      "                                                                 \n",
      " dense_4 (Dense)             (None, 400)               314000    \n",
      "                                                                 \n",
      " dense_5 (Dense)             (None, 200)               80200     \n",
      "                                                                 \n",
      " dense_6 (Dense)             (None, 300)               60300     \n",
      "                                                                 \n",
      " dense_7 (Dense)             (None, 10)                3010      \n",
      "                                                                 \n",
      "=================================================================\n",
      "Total params: 457,510\n",
      "Trainable params: 457,510\n",
      "Non-trainable params: 0\n",
      "_________________________________________________________________\n",
      "[[ 970    1    0    0    1    1    2    1    3    1]\n",
      " [   0 1125    4    0    0    0    2    1    3    0]\n",
      " [   3    3 1010    2    2    0    3    5    3    1]\n",
      " [   0    1    3  991    0    1    0    4    6    4]\n",
      " [   1    1    3    1  964    0    4    2    1    5]\n",
      " [   2    0    0   10    1  869    3    0    4    3]\n",
      " [   3    2    1    1    3    4  942    0    2    0]\n",
      " [   1    4    8    3    2    0    0 1000    2    8]\n",
      " [   3    0    4    7    3    4    0    3  946    4]\n",
      " [   2    2    0    8    9    2    0    3    3  980]]\n",
      "Accuracy: 0.9797\n",
      "F1 score: 0.979609943204457\n",
      "Recall: 0.9795313365995275\n",
      "Precision: 0.9797109371092173\n",
      "\n",
      "\n",
      "\n",
      "\n",
      "Model: \"sequential_2\"\n",
      "_________________________________________________________________\n",
      " Layer (type)                Output Shape              Param #   \n",
      "=================================================================\n",
      " flatten_2 (Flatten)         (None, 784)               0         \n",
      "                                                                 \n",
      " dense_8 (Dense)             (None, 500)               392500    \n",
      "                                                                 \n",
      " dense_9 (Dense)             (None, 200)               100200    \n",
      "                                                                 \n",
      " dense_10 (Dense)            (None, 200)               40200     \n",
      "                                                                 \n",
      " dense_11 (Dense)            (None, 10)                2010      \n",
      "                                                                 \n",
      "=================================================================\n",
      "Total params: 534,910\n",
      "Trainable params: 534,910\n",
      "Non-trainable params: 0\n",
      "_________________________________________________________________\n",
      "[[ 970    0    0    1    1    2    1    1    3    1]\n",
      " [   0 1126    2    1    0    1    2    1    2    0]\n",
      " [   4    1 1007    3    2    0    2    7    5    1]\n",
      " [   0    0    5  991    0    2    0    2    4    6]\n",
      " [   1    0    2    0  966    0    4    1    1    7]\n",
      " [   2    0    0    8    2  870    3    1    5    1]\n",
      " [   4    2    1    1    2    3  943    0    2    0]\n",
      " [   0    3   10    1    2    0    0 1005    1    6]\n",
      " [   3    0    2    6    4    1    2    4  949    3]\n",
      " [   1    2    0    3   10    3    1    5    3  981]]\n",
      "Accuracy: 0.9808\n",
      "F1 score: 0.9806767972162966\n",
      "Recall: 0.980642399960951\n",
      "Precision: 0.9807233545292708\n",
      "\n",
      "\n",
      "\n",
      "\n",
      "Model: \"sequential_3\"\n",
      "_________________________________________________________________\n",
      " Layer (type)                Output Shape              Param #   \n",
      "=================================================================\n",
      " flatten_3 (Flatten)         (None, 784)               0         \n",
      "                                                                 \n",
      " dense_12 (Dense)            (None, 300)               235500    \n",
      "                                                                 \n",
      " dense_13 (Dense)            (None, 400)               120400    \n",
      "                                                                 \n",
      " dense_14 (Dense)            (None, 600)               240600    \n",
      "                                                                 \n",
      " dense_15 (Dense)            (None, 10)                6010      \n",
      "                                                                 \n",
      "=================================================================\n",
      "Total params: 602,510\n",
      "Trainable params: 602,510\n",
      "Non-trainable params: 0\n",
      "_________________________________________________________________\n",
      "[[ 971    2    0    0    1    0    2    1    3    0]\n",
      " [   0 1123    3    1    0    2    2    1    3    0]\n",
      " [   5    2 1009    1    2    0    2    6    4    1]\n",
      " [   0    0    2  989    0    7    1    6    3    2]\n",
      " [   0    0    7    0  960    0    4    1    1    9]\n",
      " [   1    1    0   11    2  866    5    1    3    2]\n",
      " [   5    3    2    0    2    4  942    0    0    0]\n",
      " [   0    4    7    1    1    0    0 1005    4    6]\n",
      " [   3    1    3    8    2    5    2    2  944    4]\n",
      " [   3    3    0    5    7    4    0    4    1  982]]\n",
      "Accuracy: 0.9791\n",
      "F1 score: 0.9789409903822193\n",
      "Recall: 0.9788978506592306\n",
      "Precision: 0.9789960226233498\n",
      "\n",
      "\n",
      "\n",
      "\n",
      "Model: \"sequential_4\"\n",
      "_________________________________________________________________\n",
      " Layer (type)                Output Shape              Param #   \n",
      "=================================================================\n",
      " flatten_4 (Flatten)         (None, 784)               0         \n",
      "                                                                 \n",
      " dense_16 (Dense)            (None, 600)               471000    \n",
      "                                                                 \n",
      " dense_17 (Dense)            (None, 500)               300500    \n",
      "                                                                 \n",
      " dense_18 (Dense)            (None, 400)               200400    \n",
      "                                                                 \n",
      " dense_19 (Dense)            (None, 10)                4010      \n",
      "                                                                 \n",
      "=================================================================\n",
      "Total params: 975,910\n",
      "Trainable params: 975,910\n",
      "Non-trainable params: 0\n",
      "_________________________________________________________________\n",
      "[[ 971    0    1    0    1    0    1    1    4    1]\n",
      " [   0 1126    2    0    0    1    2    1    3    0]\n",
      " [   2    1 1013    5    1    0    2    4    4    0]\n",
      " [   0    0    4  992    0    4    0    5    2    3]\n",
      " [   0    0    4    1  966    0    2    1    1    7]\n",
      " [   2    0    0   11    1  867    4    1    3    3]\n",
      " [   3    2    3    1    5    4  939    0    1    0]\n",
      " [   1    1    6    2    2    0    0 1008    3    5]\n",
      " [   2    1    4    6    2    1    2    3  949    4]\n",
      " [   3    2    0    3    9    3    0    2    2  985]]\n",
      "Accuracy: 0.9816\n",
      "F1 score: 0.981436111181827\n",
      "Recall: 0.9813592475274783\n",
      "Precision: 0.9815334463887362\n",
      "\n",
      "\n",
      "\n",
      "\n"
     ]
    }
   ],
   "source": [
    "idx = 0\n",
    "\n",
    "number_neurons = []\n",
    "accuracy_score = []\n",
    "\n",
    "while idx < 5 :\n",
    "    \n",
    "    model = tf.keras.Sequential([\n",
    "                            tf.keras.layers.Flatten(input_shape=(784,1)),\n",
    "                            tf.keras.layers.Dense(number_of_neurons[idx][0], activation='relu'),\n",
    "                            tf.keras.layers.Dense(number_of_neurons[idx][1], activation='relu'),\n",
    "                            tf.keras.layers.Dense(number_of_neurons[idx][2], activation='relu'),   \n",
    "                            tf.keras.layers.Dense(output_size, activation='softmax')   \n",
    "                            ]) \n",
    "    \n",
    "    model.summary()\n",
    "    \n",
    "    model.compile(optimizer='adam', loss='categorical_crossentropy', metrics=['accuracy'])\n",
    "    \n",
    "    NUM_EPOCHS = 100\n",
    "\n",
    "    model.fit(X_train,y_train, batch_size=10000, epochs = NUM_EPOCHS, validation_data=(X_test,y_test), verbose=0)\n",
    "    \n",
    "    y_predict = model.predict(X_test)\n",
    "    \n",
    "    y_pred = []\n",
    "    \n",
    "    for val in y_predict:\n",
    "        y_pred.append(np.argmax(val))\n",
    "\n",
    "    accuracy = metrics.accuracy_score(np.argmax(y_test,axis = 1) ,y_pred)\n",
    "    recall = metrics.recall_score(np.argmax(y_test,axis = 1) ,y_pred,average='macro')\n",
    "    precision = metrics.precision_score(np.argmax(y_test,axis = 1) ,y_pred,average='macro')\n",
    "    f1_score = metrics.f1_score(np.argmax(y_test,axis = 1) ,y_pred,average='macro')\n",
    "    cm = metrics.confusion_matrix(np.argmax(y_test,axis = 1) ,y_pred)\n",
    "    print(cm)\n",
    "    print(\"Accuracy:\",accuracy)\n",
    "    print(\"F1 score:\",f1_score)\n",
    "    print(\"Recall:\",recall)\n",
    "    print(\"Precision:\",precision)\n",
    "    print(\"\\n\\n\\n\")\n",
    "    \n",
    "    number_neurons.append(sum(number_of_neurons[idx]))\n",
    "    accuracy_score.append(accuracy)\n",
    "    \n",
    "    idx = idx + 1"
   ]
  },
  {
   "cell_type": "code",
   "execution_count": 13,
   "metadata": {
    "colab": {
     "base_uri": "https://localhost:8080/",
     "height": 279
    },
    "id": "n1aFao9NLisL",
    "outputId": "1741f982-b945-449d-9aa0-ca2b6963b790"
   },
   "outputs": [
    {
     "data": {
      "image/png": "[encoded data removed]",
      "text/plain": [
       "<Figure size 432x288 with 1 Axes>"
      ]
     },
     "metadata": {
      "needs_background": "light"
     },
     "output_type": "display_data"
    }
   ],
   "source": [
    "# Plot the graph of error vs learning rate\n",
    "plt.plot(number_neurons, accuracy_score)\n",
    "plt.xlabel('Number of neurons in the hidden layer')\n",
    "plt.ylabel('Accuracy')\n",
    "plt.show()"
   ]
  }
 ],
 "metadata": {
  "colab": {
   "name": "CS571_LAB_MNIST.ipynb",
   "provenance": []
  },
  "kernelspec": {
   "display_name": "Python 3",
   "language": "python",
   "name": "python3"
  },
  "language_info": {
   "codemirror_mode": {
    "name": "ipython",
    "version": 3
   },
   "file_extension": ".py",
   "mimetype": "text/x-python",
   "name": "python",
   "nbconvert_exporter": "python",
   "pygments_lexer": "ipython3",
   "version": "3.8.5"
  }
 },
 "nbformat": 4,
 "nbformat_minor": 1
}
