{
  "nbformat": 4,
  "nbformat_minor": 0,
  "metadata": {
    "colab": {
      "name": "CS571_Midsem.ipynb",
      "provenance": [],
      "collapsed_sections": []
    },
    "kernelspec": {
      "display_name": "Python 3",
      "name": "python3"
    },
    "language_info": {
      "name": "python"
    }
  },
  "cells": [
    {
      "cell_type": "code",
      "metadata": {
        "id": "loTrFO66UU5A"
      },
      "source": [
        "import pandas as pd\n",
        "import numpy as np\n",
        "import math"
      ],
      "execution_count": 36,
      "outputs": []
    },
    {
      "cell_type": "code",
      "metadata": {
        "id": "dCQ4UNdXW9He"
      },
      "source": [
        "text = ['In recent years, researchers, for computer vision, have proposed many deep learning (DL) methods for various tasks, and facial recognition (FR) made an enormous leap using these techniques.', \n",
        "        'Deep FR systems benefit from the hierarchical architecture of the deep learning methods to learn discriminative face representation.', \n",
        "        'Computer vision methods have been widely used for facial recognition',\n",
        "        'Deep learning based computer vision methods have been used for facial recognition']"
      ],
      "execution_count": 37,
      "outputs": []
    },
    {
      "cell_type": "code",
      "metadata": {
        "id": "kLsv9kGULtNh"
      },
      "source": [
        "label = ['DL', 'DL', 'CV', 'CV']"
      ],
      "execution_count": 38,
      "outputs": []
    },
    {
      "cell_type": "code",
      "metadata": {
        "id": "Lqsv4KhVGB2E"
      },
      "source": [
        "df = pd.DataFrame({'text' : text, 'label' : label})\n",
        "\n",
        "# Cleaning the dataset\n",
        "df['text'] = df['text'].str.replace('\\W', ' ') # Removes punctuation\n",
        "df['text'] = df['text'].str.lower()            # Convert to Lowercase\n",
        "df['text'] = df['text'].str.split()            # Split into words"
      ],
      "execution_count": 39,
      "outputs": []
    },
    {
      "cell_type": "code",
      "metadata": {
        "colab": {
          "base_uri": "https://localhost:8080/"
        },
        "id": "klTX6me1T6Po",
        "outputId": "35ee93de-5f03-422b-92f5-3b72cf38c6c5"
      },
      "source": [
        "df_train = df.iloc[0:3]\n",
        "df_test = df.iloc[3:4]\n",
        "\n",
        "print('Size of training set =', len(df_train))\n",
        "print('Size of testing set =', len(df_test))"
      ],
      "execution_count": 40,
      "outputs": [
        {
          "output_type": "stream",
          "name": "stdout",
          "text": [
            "Size of training set = 3\n",
            "Size of testing set = 1\n"
          ]
        }
      ]
    },
    {
      "cell_type": "code",
      "metadata": {
        "colab": {
          "base_uri": "https://localhost:8080/",
          "height": 142
        },
        "id": "8YdioAxsLxEx",
        "outputId": "9fe913d5-56c9-4f6d-8a26-e44199f0970a"
      },
      "source": [
        "df_train"
      ],
      "execution_count": 41,
      "outputs": [
        {
          "output_type": "execute_result",
          "data": {
            "text/html": [
              "<div>\n",
              "<style scoped>\n",
              "    .dataframe tbody tr th:only-of-type {\n",
              "        vertical-align: middle;\n",
              "    }\n",
              "\n",
              "    .dataframe tbody tr th {\n",
              "        vertical-align: top;\n",
              "    }\n",
              "\n",
              "    .dataframe thead th {\n",
              "        text-align: right;\n",
              "    }\n",
              "</style>\n",
              "<table border=\"1\" class=\"dataframe\">\n",
              "  <thead>\n",
              "    <tr style=\"text-align: right;\">\n",
              "      <th></th>\n",
              "      <th>text</th>\n",
              "      <th>label</th>\n",
              "    </tr>\n",
              "  </thead>\n",
              "  <tbody>\n",
              "    <tr>\n",
              "      <th>0</th>\n",
              "      <td>[in, recent, years, researchers, for, computer...</td>\n",
              "      <td>DL</td>\n",
              "    </tr>\n",
              "    <tr>\n",
              "      <th>1</th>\n",
              "      <td>[deep, fr, systems, benefit, from, the, hierar...</td>\n",
              "      <td>DL</td>\n",
              "    </tr>\n",
              "    <tr>\n",
              "      <th>2</th>\n",
              "      <td>[computer, vision, methods, have, been, widely...</td>\n",
              "      <td>CV</td>\n",
              "    </tr>\n",
              "  </tbody>\n",
              "</table>\n",
              "</div>"
            ],
            "text/plain": [
              "                                                text label\n",
              "0  [in, recent, years, researchers, for, computer...    DL\n",
              "1  [deep, fr, systems, benefit, from, the, hierar...    DL\n",
              "2  [computer, vision, methods, have, been, widely...    CV"
            ]
          },
          "metadata": {},
          "execution_count": 41
        }
      ]
    },
    {
      "cell_type": "code",
      "metadata": {
        "id": "nSZIag6vLKjh"
      },
      "source": [
        "vocabulary = set()\n",
        "for sms in df_train['text']:\n",
        "  for word in sms:\n",
        "    vocabulary.add(word)"
      ],
      "execution_count": 42,
      "outputs": []
    },
    {
      "cell_type": "code",
      "metadata": {
        "colab": {
          "base_uri": "https://localhost:8080/"
        },
        "id": "ougopQHtNLgZ",
        "outputId": "fcf5417c-13cd-444b-8503-1b9ea9d2e623"
      },
      "source": [
        "# N_Vocabulary\n",
        "n_vocabulary = len(vocabulary)\n",
        "print(f'Length of vocabulary = {n_vocabulary}')"
      ],
      "execution_count": 43,
      "outputs": [
        {
          "output_type": "stream",
          "name": "stdout",
          "text": [
            "Length of vocabulary = 42\n"
          ]
        }
      ]
    },
    {
      "cell_type": "code",
      "metadata": {
        "id": "9Epq8x0hQipm"
      },
      "source": [
        "word_counts_per_sms = {unique_word: [0] * len(df_train['text']) for unique_word in vocabulary}\n",
        "\n",
        "for index, sms in enumerate(df_train['text']):\n",
        "  for word in sms:\n",
        "      word_counts_per_sms[word][index] += 1  \n",
        "\n",
        "word_counts = pd.DataFrame(word_counts_per_sms)\n",
        "df_train = pd.concat([df_train, word_counts], axis=1)\n",
        "\n",
        "# Isolating DL and CV messages first\n",
        "DL_messages = df_train[df_train['label'] == 'DL']\n",
        "CV_messages = df_train[df_train['label'] == 'CV']\n",
        "\n",
        "# P(DL) and P(CV)\n",
        "p_DL = len(DL_messages) / len(df_train)\n",
        "p_CV = len(CV_messages) / len(df_train)\n",
        "\n",
        "# N_DL\n",
        "n_words_per_DL_message = DL_messages['text'].apply(len)\n",
        "n_DL = n_words_per_DL_message.sum()\n",
        "\n",
        "# N_CV\n",
        "n_words_per_CV_message = CV_messages['text'].apply(len)\n",
        "n_CV = n_words_per_CV_message.sum()\n",
        "\n",
        "# Laplace smoothing\n",
        "alpha = 1"
      ],
      "execution_count": 44,
      "outputs": []
    },
    {
      "cell_type": "code",
      "metadata": {
        "id": "rxvweuhejynz"
      },
      "source": [
        "fp = open(\"Vocabulary.txt\", \"w\")\n",
        "fp.writelines([\"%s\\n\" % item  for item in vocabulary])\n",
        "fp.close()"
      ],
      "execution_count": 54,
      "outputs": []
    },
    {
      "cell_type": "code",
      "metadata": {
        "id": "3o-pJS9dyJle"
      },
      "source": [
        "def multinomial():\n",
        "\n",
        "  # Initiate parameters\n",
        "  parameters_DL = {unique_word:0 for unique_word in vocabulary}\n",
        "  parameters_CV = {unique_word:0 for unique_word in vocabulary}\n",
        "\n",
        "  # Calculate parameters\n",
        "  for word in vocabulary:\n",
        "\n",
        "    n_word_given_DL = DL_messages[word].sum() # spam_messages already defined\n",
        "    p_word_given_DL = (n_word_given_DL + alpha) / (n_DL + alpha*n_vocabulary)\n",
        "    parameters_DL[word] = p_word_given_DL\n",
        "\n",
        "    n_word_given_CV = CV_messages[word].sum() # ham_messages already defined\n",
        "    p_word_given_CV = (n_word_given_CV + alpha) / (n_CV + alpha*n_vocabulary)\n",
        "    parameters_CV[word] = p_word_given_CV  \n",
        "  \n",
        "  smooth_DL = 1/(n_DL + alpha*n_vocabulary)\n",
        "  smooth_CV = 1/(n_CV + alpha*n_vocabulary)\n",
        "\n",
        "  p_DL_given_message = math.log(p_DL)\n",
        "  p_CV_given_message = math.log(p_CV)\n",
        "  message = df.iloc[3, 0]\n",
        "  label = df.iloc[3, 1]\n",
        "\n",
        "  for word in message:\n",
        "    \n",
        "    if word in parameters_DL:\n",
        "      p_DL_given_message += math.log(parameters_DL[word])\n",
        "    if word in parameters_CV:\n",
        "      p_CV_given_message += math.log(parameters_CV[word])\n",
        "\n",
        "  print(f'Probability of CV: {np.exp(p_CV_given_message}'))\n",
        "  print(f'Probability of DL: {np.exp(p_DL_given_message}'))\n",
        "\n",
        "  if p_CV_given_message >= p_DL_given_message:\n",
        "      predicted = 'CV'\n",
        "  else:\n",
        "      predicted = 'DL'\n",
        "\n",
        "  return predicted, parameters_DL, parameters_CV"
      ],
      "execution_count": 110,
      "outputs": []
    },
    {
      "cell_type": "code",
      "metadata": {
        "id": "FGgkkg7zNYYs"
      },
      "source": [
        "def multivariate():\n",
        "  \n",
        "  # Initiate parameters\n",
        "  parameters_DL = {unique_word:0 for unique_word in vocabulary}\n",
        "  parameters_CV = {unique_word:0 for unique_word in vocabulary}\n",
        "\n",
        "  # Calculate parameters\n",
        "  for word in vocabulary:\n",
        "    n_word_given_DL = DL_messages[word].sum() # spam_messages already defined\n",
        "    p_word_given_DL = (n_word_given_DL + 1) / (n_DL + 2)\n",
        "    parameters_DL[word] = p_word_given_DL\n",
        "\n",
        "    n_word_given_CV = CV_messages[word].sum() # ham_messages already defined\n",
        "    p_word_given_CV = (n_word_given_CV + 1) / (n_CV + 2)\n",
        "    parameters_CV[word] = p_word_given_CV  \n",
        "  \n",
        "  smooth_DL = 1/(n_DL + 2)\n",
        "  smooth_CV = 1/(n_CV + 2)\n",
        "\n",
        "  p_DL_given_message = math.log(p_DL)\n",
        "  p_CV_given_message = math.log(p_CV)\n",
        "  message = df.iloc[3, 0]\n",
        "  label = df.iloc[3, 1]\n",
        "\n",
        "  for word in message:\n",
        "    if word in parameters_DL:\n",
        "      p_DL_given_message += math.log(parameters_DL[word])\n",
        "    else:\n",
        "      p_DL_given_message += math.log(1 - smooth_DL)\n",
        "    if word in parameters_CV:\n",
        "      p_CV_given_message += math.log(parameters_CV[word])\n",
        "    else:\n",
        "      p_CV_given_message += math.log(1 - smooth_CV)\n",
        "\n",
        "  print(f'Probability of CV: {np.exp(p_CV_given_message}'))\n",
        "  print(f'Probability of DL: {np.exp(p_DL_given_message}'))\n",
        "\n",
        "  if p_CV_given_message >= p_DL_given_message:\n",
        "      predicted = 'CV'\n",
        "  else:\n",
        "      predicted = 'DL'\n",
        "    \n",
        "  return predicted, parameters_DL, parameters_CV"
      ],
      "execution_count": 111,
      "outputs": []
    },
    {
      "cell_type": "code",
      "metadata": {
        "colab": {
          "base_uri": "https://localhost:8080/"
        },
        "id": "FPUpqeLLNZKN",
        "outputId": "98bc0352-3127-4118-a03b-7b3f90ce417d"
      },
      "source": [
        "predicted, parameters_DL, parameters_CV = multinomial()\n",
        "print(f'Predicted Class : {predicted}')\n",
        "print(parameters_DL)\n",
        "print(parameters_CV)"
      ],
      "execution_count": 122,
      "outputs": [
        {
          "output_type": "stream",
          "name": "stdout",
          "text": [
            "2.2704499163162622e-17\n",
            "9.40097896853843e-19\n",
            "Predicted Class : CV\n",
            "{'years': 0.022727272727272728, 'from': 0.022727272727272728, 'vision': 0.022727272727272728, 'proposed': 0.022727272727272728, 'dl': 0.022727272727272728, 'tasks': 0.022727272727272728, 'techniques': 0.022727272727272728, 'various': 0.022727272727272728, 'learn': 0.022727272727272728, 'facial': 0.022727272727272728, 'representation': 0.022727272727272728, 'deep': 0.045454545454545456, 'for': 0.03409090909090909, 'these': 0.022727272727272728, 'in': 0.022727272727272728, 'been': 0.011363636363636364, 'made': 0.022727272727272728, 'to': 0.022727272727272728, 'discriminative': 0.022727272727272728, 'methods': 0.03409090909090909, 'have': 0.022727272727272728, 'systems': 0.022727272727272728, 'architecture': 0.022727272727272728, 'of': 0.022727272727272728, 'face': 0.022727272727272728, 'and': 0.022727272727272728, 'many': 0.022727272727272728, 'researchers': 0.022727272727272728, 'an': 0.022727272727272728, 'hierarchical': 0.022727272727272728, 'recognition': 0.022727272727272728, 'computer': 0.022727272727272728, 'enormous': 0.022727272727272728, 'recent': 0.022727272727272728, 'used': 0.011363636363636364, 'widely': 0.011363636363636364, 'leap': 0.022727272727272728, 'the': 0.03409090909090909, 'learning': 0.03409090909090909, 'benefit': 0.022727272727272728, 'using': 0.022727272727272728, 'fr': 0.03409090909090909}\n",
            "{'years': 0.019230769230769232, 'from': 0.019230769230769232, 'vision': 0.038461538461538464, 'proposed': 0.019230769230769232, 'dl': 0.019230769230769232, 'tasks': 0.019230769230769232, 'techniques': 0.019230769230769232, 'various': 0.019230769230769232, 'learn': 0.019230769230769232, 'facial': 0.038461538461538464, 'representation': 0.019230769230769232, 'deep': 0.019230769230769232, 'for': 0.038461538461538464, 'these': 0.019230769230769232, 'in': 0.019230769230769232, 'been': 0.038461538461538464, 'made': 0.019230769230769232, 'to': 0.019230769230769232, 'discriminative': 0.019230769230769232, 'methods': 0.038461538461538464, 'have': 0.038461538461538464, 'systems': 0.019230769230769232, 'architecture': 0.019230769230769232, 'of': 0.019230769230769232, 'face': 0.019230769230769232, 'and': 0.019230769230769232, 'many': 0.019230769230769232, 'researchers': 0.019230769230769232, 'an': 0.019230769230769232, 'hierarchical': 0.019230769230769232, 'recognition': 0.038461538461538464, 'computer': 0.038461538461538464, 'enormous': 0.019230769230769232, 'recent': 0.019230769230769232, 'used': 0.038461538461538464, 'widely': 0.038461538461538464, 'leap': 0.019230769230769232, 'the': 0.019230769230769232, 'learning': 0.019230769230769232, 'benefit': 0.019230769230769232, 'using': 0.019230769230769232, 'fr': 0.019230769230769232}\n"
          ]
        }
      ]
    },
    {
      "cell_type": "code",
      "metadata": {
        "id": "hVL4Rm0c4mVz"
      },
      "source": [
        "with open(\"Multinomial.txt\", 'w') as f: \n",
        "  f.write('Predicted Class: %s\\n' % (predicted))\n",
        "  f.write('\\n\\nConditional Probability DL Class\\n')\n",
        "  for key, value in parameters_DL.items(): \n",
        "    f.write('%s : %s\\n' % (key, value))\n",
        "  f.write('\\n\\nConditional Probability CV Class\\n')\n",
        "  for key, value in parameters_CV.items(): \n",
        "    f.write('%s : %s\\n' % (key, value))"
      ],
      "execution_count": 123,
      "outputs": []
    },
    {
      "cell_type": "code",
      "metadata": {
        "colab": {
          "base_uri": "https://localhost:8080/"
        },
        "id": "dV3fYj6WbIu1",
        "outputId": "458105ba-b99e-4326-b6d3-0bc3726c50d5"
      },
      "source": [
        "predicted, parameters_DL, parameters_CV = multivariate()\n",
        "print(f'Predicted Class : {predicted}')\n",
        "print(parameters_DL)\n",
        "print(parameters_CV)"
      ],
      "execution_count": 124,
      "outputs": [
        {
          "output_type": "stream",
          "name": "stdout",
          "text": [
            "2.1055542658231758e-10\n",
            "7.239115138838499e-16\n",
            "Predicted Class : CV\n",
            "{'years': 0.041666666666666664, 'from': 0.041666666666666664, 'vision': 0.041666666666666664, 'proposed': 0.041666666666666664, 'dl': 0.041666666666666664, 'tasks': 0.041666666666666664, 'techniques': 0.041666666666666664, 'various': 0.041666666666666664, 'learn': 0.041666666666666664, 'facial': 0.041666666666666664, 'representation': 0.041666666666666664, 'deep': 0.08333333333333333, 'for': 0.0625, 'these': 0.041666666666666664, 'in': 0.041666666666666664, 'been': 0.020833333333333332, 'made': 0.041666666666666664, 'to': 0.041666666666666664, 'discriminative': 0.041666666666666664, 'methods': 0.0625, 'have': 0.041666666666666664, 'systems': 0.041666666666666664, 'architecture': 0.041666666666666664, 'of': 0.041666666666666664, 'face': 0.041666666666666664, 'and': 0.041666666666666664, 'many': 0.041666666666666664, 'researchers': 0.041666666666666664, 'an': 0.041666666666666664, 'hierarchical': 0.041666666666666664, 'recognition': 0.041666666666666664, 'computer': 0.041666666666666664, 'enormous': 0.041666666666666664, 'recent': 0.041666666666666664, 'used': 0.020833333333333332, 'widely': 0.020833333333333332, 'leap': 0.041666666666666664, 'the': 0.0625, 'learning': 0.0625, 'benefit': 0.041666666666666664, 'using': 0.041666666666666664, 'fr': 0.0625}\n",
            "{'years': 0.08333333333333333, 'from': 0.08333333333333333, 'vision': 0.16666666666666666, 'proposed': 0.08333333333333333, 'dl': 0.08333333333333333, 'tasks': 0.08333333333333333, 'techniques': 0.08333333333333333, 'various': 0.08333333333333333, 'learn': 0.08333333333333333, 'facial': 0.16666666666666666, 'representation': 0.08333333333333333, 'deep': 0.08333333333333333, 'for': 0.16666666666666666, 'these': 0.08333333333333333, 'in': 0.08333333333333333, 'been': 0.16666666666666666, 'made': 0.08333333333333333, 'to': 0.08333333333333333, 'discriminative': 0.08333333333333333, 'methods': 0.16666666666666666, 'have': 0.16666666666666666, 'systems': 0.08333333333333333, 'architecture': 0.08333333333333333, 'of': 0.08333333333333333, 'face': 0.08333333333333333, 'and': 0.08333333333333333, 'many': 0.08333333333333333, 'researchers': 0.08333333333333333, 'an': 0.08333333333333333, 'hierarchical': 0.08333333333333333, 'recognition': 0.16666666666666666, 'computer': 0.16666666666666666, 'enormous': 0.08333333333333333, 'recent': 0.08333333333333333, 'used': 0.16666666666666666, 'widely': 0.16666666666666666, 'leap': 0.08333333333333333, 'the': 0.08333333333333333, 'learning': 0.08333333333333333, 'benefit': 0.08333333333333333, 'using': 0.08333333333333333, 'fr': 0.08333333333333333}\n"
          ]
        }
      ]
    },
    {
      "cell_type": "code",
      "metadata": {
        "id": "afFXDhLi5TDC"
      },
      "source": [
        "with open(\"Multivariate.txt\", 'w') as f: \n",
        "  f.write('Predicted Class: %s\\n' % (predicted))\n",
        "  f.write('\\n\\nConditional Probability DL Class\\n')\n",
        "  for key, value in parameters_DL.items(): \n",
        "    f.write('%s : %s\\n' % (key, value))\n",
        "  f.write('\\n\\nConditional Probability CV Class\\n')\n",
        "  for key, value in parameters_CV.items(): \n",
        "    f.write('%s : %s\\n' % (key, value))"
      ],
      "execution_count": 125,
      "outputs": []
    }
  ]
}